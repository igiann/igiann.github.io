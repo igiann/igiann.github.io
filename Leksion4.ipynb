{
 "cells": [
  {
   "cell_type": "code",
   "execution_count": 134,
   "metadata": {
    "scrolled": true
   },
   "outputs": [
    {
     "data": {
      "image/png": "[encoded data removed]",
      "text/plain": [
       "<Figure size 432x288 with 1 Axes>"
      ]
     },
     "metadata": {
      "needs_background": "light"
     },
     "output_type": "display_data"
    }
   ],
   "source": [
    "import numpy as np\n",
    "import matplotlib.pyplot as plt \n",
    "\n",
    "# Permasat e figures\n",
    "h = 5;\n",
    "# Krijimi i nje matrice me 0 dhe te tipit int8\n",
    "data = np.zeros((h,h), dtype=np.uint8)\n",
    "# Do afishohet nje kuti e zeze\n",
    "plt.imshow(data, cmap='gray', vmin=0, vmax=255)\n",
    "plt.show()"
   ]
  },
  {
   "cell_type": "code",
   "execution_count": 135,
   "metadata": {
    "scrolled": true
   },
   "outputs": [
    {
     "name": "stdout",
     "output_type": "stream",
     "text": [
      "[[255 255 255 255 255]\n",
      " [255 255 255 255 255]\n",
      " [255 255 255 255 255]\n",
      " [255 255 255 255 255]\n",
      " [255 255 255 255 255]]\n"
     ]
    },
    {
     "data": {
      "image/png": "[encoded data removed]",
      "text/plain": [
       "<Figure size 432x288 with 1 Axes>"
      ]
     },
     "metadata": {
      "needs_background": "light"
     },
     "output_type": "display_data"
    }
   ],
   "source": [
    "import numpy as np\n",
    "import matplotlib.pyplot as plt \n",
    "\n",
    "# Permasat e figures\n",
    "h = 5;\n",
    "# Krijimi i nje matrice me 0 dhe te tipit int8\n",
    "data = 255*np.ones((h,h), dtype=np.uint8)\n",
    "print(data)\n",
    "# \n",
    "plt.imshow(data, cmap='gray', vmin=0, vmax=255)\n",
    "plt.show()"
   ]
  },
  {
   "cell_type": "code",
   "execution_count": 136,
   "metadata": {
    "scrolled": true
   },
   "outputs": [
    {
     "data": {
      "image/png": "[encoded data removed]",
      "text/plain": [
       "<Figure size 432x288 with 1 Axes>"
      ]
     },
     "metadata": {
      "needs_background": "light"
     },
     "output_type": "display_data"
    }
   ],
   "source": [
    "import numpy as np\n",
    "import matplotlib.pyplot as plt \n",
    "\n",
    "A = np.array(np.arange(0,255,1))\n",
    "# Kopion rrjeshtin A 256 duke krijuar matricen B\n",
    "ColorMap = np.tile(A, (256, 1))\n",
    "\n",
    "\n",
    "plt.imshow(ColorMap, cmap='gray', vmin=0, vmax=255)\n",
    "plt.show()"
   ]
  },
  {
   "cell_type": "code",
   "execution_count": 141,
   "metadata": {
    "scrolled": true
   },
   "outputs": [
    {
     "data": {
      "image/png": "[encoded data removed]",
      "text/plain": [
       "<Figure size 432x288 with 1 Axes>"
      ]
     },
     "metadata": {
      "needs_background": "light"
     },
     "output_type": "display_data"
    }
   ],
   "source": [
    "import numpy as np\n",
    "import matplotlib.pyplot as plt \n",
    "\n",
    "A = 120*np.ones((5,10))\n",
    "B = 120*np.ones((5,10))\n",
    "\n",
    "C = np.concatenate([A,B])\n",
    "\n",
    "\n",
    "plt.imshow(C, cmap='gray', vmin=0, vmax=255)\n",
    "plt.show()"
   ]
  },
  {
   "cell_type": "code",
   "execution_count": 152,
   "metadata": {
    "scrolled": true
   },
   "outputs": [
    {
     "data": {
      "image/png": "[encoded data removed]",
      "text/plain": [
       "<Figure size 432x288 with 1 Axes>"
      ]
     },
     "metadata": {
      "needs_background": "light"
     },
     "output_type": "display_data"
    }
   ],
   "source": [
    "import numpy as np\n",
    "import matplotlib.pyplot as plt \n",
    "\n",
    "# Ngjyra e kuqe\n",
    "\n",
    "# Permasat\n",
    "N = 64;\n",
    "\n",
    "# Nje matric me 3dimensionale\n",
    "R = np.zeros([N,N,3],np.uint8)\n",
    "\n",
    "# Tabela e pare te mbushet me vlera 1\n",
    "R[:,:,0] = 200*np.ones([N,N],dtype=np.uint8)\n",
    "\n",
    "# Afishimi i ngjyres\n",
    "plt.imshow(R)\n",
    "plt.show()"
   ]
  },
  {
   "cell_type": "code",
   "execution_count": 149,
   "metadata": {
    "scrolled": true
   },
   "outputs": [
    {
     "data": {
      "image/png": "[encoded data removed]",
      "text/plain": [
       "<Figure size 432x288 with 1 Axes>"
      ]
     },
     "metadata": {
      "needs_background": "light"
     },
     "output_type": "display_data"
    }
   ],
   "source": [
    "import numpy as np\n",
    "import matplotlib.pyplot as plt \n",
    "\n",
    "# Ngjyra e jeshile\n",
    "\n",
    "# Permasat\n",
    "N = 64;\n",
    "\n",
    "# Nje matric me 3dimensionale\n",
    "G = np.zeros([N,N,3],np.uint8)\n",
    "\n",
    "# Tabela e dyte te mbushet me vlera 255\n",
    "G[:,:,1] = 50*np.ones([N,N],dtype=np.uint8)\n",
    "\n",
    "# Afishimi i ngjyres\n",
    "plt.imshow(G)\n",
    "plt.show()"
   ]
  },
  {
   "cell_type": "code",
   "execution_count": 155,
   "metadata": {
    "scrolled": true
   },
   "outputs": [
    {
     "data": {
      "image/png": "[encoded data removed]",
      "text/plain": [
       "<Figure size 432x288 with 1 Axes>"
      ]
     },
     "metadata": {
      "needs_background": "light"
     },
     "output_type": "display_data"
    }
   ],
   "source": [
    "import numpy as np\n",
    "import matplotlib.pyplot as plt \n",
    "\n",
    "# Ngjyra e blue\n",
    "\n",
    "# Permasat\n",
    "N = 64;\n",
    "\n",
    "# Nje matric me 3dimensionale\n",
    "B = np.zeros([N,N,3],np.uint8)\n",
    "\n",
    "# Tabela e trete te mbushet me vlera 255\n",
    "B[:,:,2] = 50*np.ones([N,N],dtype=np.uint8)\n",
    "\n",
    "# Afishimi i ngjyres\n",
    "plt.imshow(B)\n",
    "plt.show()"
   ]
  },
  {
   "cell_type": "markdown",
   "metadata": {},
   "source": [
    "# Perdorimi i librarise PIL (Python Image Library)\n",
    "\n",
    "Python Imaging Library is a free and open-source additional library for the Python programming language that adds support for opening, manipulating, and saving many different image file formats.\n"
   ]
  },
  {
   "cell_type": "code",
   "execution_count": 175,
   "metadata": {
    "scrolled": true
   },
   "outputs": [],
   "source": [
    "# Libralia e python per imazhe\n",
    "from PIL import Image\n",
    "# Lexo imazhin\n",
    "fig = Image.open(\"baboon.png\")"
   ]
  },
  {
   "cell_type": "code",
   "execution_count": 164,
   "metadata": {},
   "outputs": [
    {
     "name": "stdout",
     "output_type": "stream",
     "text": [
      "PNG (512, 512) RGB\n"
     ]
    }
   ],
   "source": [
    "# Afisho formatin permasat dhe modin e imazhit\n",
    "print(fig.format, im.size, im.mode)"
   ]
  },
  {
   "cell_type": "code",
   "execution_count": 165,
   "metadata": {
    "scrolled": true
   },
   "outputs": [],
   "source": [
    "# Afisho imazhin \n",
    "fig.show()"
   ]
  },
  {
   "cell_type": "code",
   "execution_count": 167,
   "metadata": {
    "scrolled": true
   },
   "outputs": [],
   "source": [
    "# Ndrysho permasat e imazhit\n",
    "fig2 = fig.resize((256,256))\n",
    "# Imazhi fillestar\n",
    "fig.show()\n",
    "# Imazhi i ri \n",
    "fig2.show()\n",
    "# Save\n",
    "fig2.save(\"Hello.png\")"
   ]
  },
  {
   "cell_type": "code",
   "execution_count": 171,
   "metadata": {
    "scrolled": true
   },
   "outputs": [],
   "source": [
    "# Rrotullohe me 90 grade\n",
    "fig2 = fig.rotate(30)\n",
    "fig.show()\n",
    "fig2.show()"
   ]
  },
  {
   "cell_type": "code",
   "execution_count": 173,
   "metadata": {
    "scrolled": true
   },
   "outputs": [],
   "source": [
    "# Seleksiono vetem nje pjese te figures\n",
    "hapesira = (300, 300, 512, 512)\n",
    "# (Xmin,Ymin, Xmax, Ymax )\n",
    "region = fig.crop(hapesira)\n",
    "# Afisho fill. dhe perf.\n",
    "fig.show()\n",
    "region.show()"
   ]
  },
  {
   "cell_type": "code",
   "execution_count": 177,
   "metadata": {
    "scrolled": true
   },
   "outputs": [],
   "source": [
    "import PIL\n",
    "from PIL import Image\n",
    "\n",
    "# Pasqyrimi\n",
    "lena = Image.open('lena.png')\n",
    "# Flip left to right\n",
    "lena2 = lena.transpose(PIL.Image.FLIP_LEFT_RIGHT)\n",
    "lena.show()\n",
    "lena2.show()"
   ]
  },
  {
   "cell_type": "code",
   "execution_count": 178,
   "metadata": {
    "scrolled": true
   },
   "outputs": [
    {
     "name": "stdout",
     "output_type": "stream",
     "text": [
      "[[164  63  75 ... 117 141 179]\n",
      " [120 135  55 ... 122 136 120]\n",
      " [ 99 132  60 ... 118  87  96]\n",
      " ...\n",
      " [121 123 124 ... 110  90  81]\n",
      " [126 117 121 ...  73  99  80]\n",
      " [  9  10  11 ...   5   2   4]]\n"
     ]
    }
   ],
   "source": [
    "# Ndahen imazhet sipas ngjyrave\n",
    "r, g, b = fig.split()\n",
    "\n",
    "r.show()\n",
    "g.show()\n",
    "b.show()\n",
    "# Afisho vlerat e tabeles\n",
    "print(np.array(r))"
   ]
  },
  {
   "cell_type": "code",
   "execution_count": 179,
   "metadata": {
    "scrolled": true
   },
   "outputs": [],
   "source": [
    "# Split\n",
    "r, g, b = fig.split()\n",
    "# Permasat\n",
    "N = 512\n",
    "# Krijimi i \n",
    "R = np.zeros([N,N,3],np.uint8)\n",
    "R[:,:,0] = np.array(r)\n",
    "\n",
    "G = np.zeros([N,N,3],np.uint8)\n",
    "G[:,:,1] = np.array(g)\n",
    "\n",
    "B = np.zeros([N,N,3],np.uint8)\n",
    "B[:,:,2] = np.array(b)\n",
    "\n",
    "# Konvertimi nga matrice ne Image\n",
    "R = Image.fromarray(R)\n",
    "G = Image.fromarray(G)\n",
    "B = Image.fromarray(B)\n",
    "\n",
    "R.show()\n",
    "G.show()\n",
    "B.show()"
   ]
  },
  {
   "cell_type": "code",
   "execution_count": 180,
   "metadata": {
    "scrolled": true
   },
   "outputs": [],
   "source": [
    "# Konvertimini ne bardh e zi\n",
    "# Ndarja e ngjyrave\n",
    "r, g, b = fig.split()\n",
    "# Bashkimi me peshe\n",
    "BW =  0.3 * np.array(r) + 0.59 * np.array(g) + 0.11 * np.array(b)\n",
    "# Ndryshimi tipit nga float ne intiger\n",
    "BW = BW.astype('uint8')\n",
    "# Konvertimi nga matrice ne Image\n",
    "BW = Image.fromarray(BW)\n",
    "BW.show()"
   ]
  },
  {
   "cell_type": "code",
   "execution_count": 182,
   "metadata": {
    "scrolled": true
   },
   "outputs": [],
   "source": [
    "# Bardh e zi ne negative\n",
    "negativeBW = 255 - np.array(BW)\n",
    "\n",
    "fig2 = Image.fromarray(negativeBW)\n",
    "\n",
    "BW.show()\n",
    "fig2.show()"
   ]
  },
  {
   "cell_type": "code",
   "execution_count": 185,
   "metadata": {
    "scrolled": true
   },
   "outputs": [],
   "source": [
    "# Bashkimi i imazheve\n",
    "Dy_figura = 0.8  * np.array(lena) + 0.2 * np.array(fig)\n",
    "\n",
    "Dy_figura = Dy_figura.astype('uint8')\n",
    "\n",
    "Dy_figura = Image.fromarray(Dy_figura)\n",
    "Dy_figura.show()\n"
   ]
  },
  {
   "cell_type": "code",
   "execution_count": 186,
   "metadata": {
    "scrolled": true
   },
   "outputs": [],
   "source": [
    "negative = 255 - np.array(fig)\n",
    "fig2 = Image.fromarray(negative)\n",
    "fig2.show()"
   ]
  },
  {
   "cell_type": "code",
   "execution_count": 187,
   "metadata": {
    "scrolled": true
   },
   "outputs": [],
   "source": [
    "# Nga libraria ngarkojme filterat\n",
    "from PIL import ImageFilter\n",
    "\n",
    "fig2 = fig.filter(ImageFilter.BLUR)\n",
    "\n",
    "fig.show()\n",
    "fig2.show()"
   ]
  },
  {
   "cell_type": "code",
   "execution_count": 188,
   "metadata": {},
   "outputs": [],
   "source": [
    "fig2 = fig.filter(ImageFilter.CONTOUR)\n",
    "\n",
    "fig.show()\n",
    "fig2.show()"
   ]
  },
  {
   "cell_type": "code",
   "execution_count": 189,
   "metadata": {},
   "outputs": [],
   "source": [
    "fig2 = BW.filter(ImageFilter.CONTOUR)\n",
    "\n",
    "fig.show()\n",
    "fig2.show()"
   ]
  },
  {
   "cell_type": "code",
   "execution_count": null,
   "metadata": {},
   "outputs": [],
   "source": []
  }
 ],
 "metadata": {
  "kernelspec": {
   "display_name": "Python 3",
   "language": "python",
   "name": "python3"
  },
  "language_info": {
   "codemirror_mode": {
    "name": "ipython",
    "version": 3
   },
   "file_extension": ".py",
   "mimetype": "text/x-python",
   "name": "python",
   "nbconvert_exporter": "python",
   "pygments_lexer": "ipython3",
   "version": "3.8.5"
  }
 },
 "nbformat": 4,
 "nbformat_minor": 4
}
